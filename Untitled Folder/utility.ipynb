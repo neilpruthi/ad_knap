{
 "cells": [
  {
   "cell_type": "code",
   "execution_count": 212,
   "metadata": {},
   "outputs": [],
   "source": [
    "import numpy as np\n",
    "import itertools as it\n",
    "from joblib import Parallel, delayed"
   ]
  },
  {
   "cell_type": "code",
   "execution_count": 213,
   "metadata": {},
   "outputs": [],
   "source": [
    "def est_knap_u(item_draws, n_players, print_out = False):\n",
    "    n_rounds = item_draws.shape[0]\n",
    "    n_knaps = item_draws.shape[1]\n",
    "    \n",
    "    utility = {}\n",
    "    \n",
    "    for match in it.product(range(n_knaps), repeat=n_players):\n",
    "        \n",
    "        if len(set(match)) > 1:\n",
    "            round_max = np.amax(item_draws[:, np.setdiff1d(match, match[0])], 1)\n",
    "        else:\n",
    "            round_max = item_draws[:, match[0]]\n",
    "        \n",
    "        wins = sum(item_draws[:, match[0]] > round_max)\n",
    "        ties = sum(item_draws[:, match[0]] == round_max)\n",
    "        losses = sum(item_draws[:, match[0]] < round_max)\n",
    "        \n",
    "        if print_out: \n",
    "            print(\"match: \", match)\n",
    "            print(\"wins:\", wins)\n",
    "            print(\"ties:\", ties)\n",
    "            print(\"losses:\", losses)\n",
    "            print(\"round_max: \", round_max)\n",
    "        \n",
    "        if ties == n_rounds:\n",
    "            if print_out: print(\"utility category: all ties\")\n",
    "            utility[''.join(str(e) for e in match)] = 0\n",
    "        elif wins > 0 and ties > 0:\n",
    "            if print_out: print(\"utility category: splitwin\")\n",
    "            utility[''.join(str(e) for e in match)] = (wins/n_rounds) * (n_players/ties - 1) - 1*(1-(wins/n_rounds))\n",
    "        else:\n",
    "            if print_out: print(\"utility category: else\")\n",
    "            utility[''.join(str(e) for e in match)] = (n_players - 1)*(wins/n_rounds) - 1*(1 - (wins/n_rounds))\n",
    "        \n",
    "        if print_out: \n",
    "            print(\"est_u:\", utility[''.join(str(e) for e in match)])\n",
    "            print(\"-----\")\n",
    "    \n",
    "    return(utility)"
   ]
  },
  {
   "cell_type": "code",
   "execution_count": 228,
   "metadata": {},
   "outputs": [],
   "source": [
    "def match_utility(match, item_draws, n_rounds, n_players):\n",
    "    utility = {}\n",
    "    if len(set(match)) > 1:\n",
    "            round_max = np.amax(item_draws[:, np.setdiff1d(match, match[0])], 1)\n",
    "    else:\n",
    "        round_max = item_draws[:, match[0]] \n",
    "            \n",
    "    wins = sum(item_draws[:, match[0]] > round_max)\n",
    "    ties = sum(item_draws[:, match[0]] == round_max)\n",
    "    losses = sum(item_draws[:, match[0]] < round_max)\n",
    "        \n",
    "    if ties == n_rounds:\n",
    "        utility[''.join(str(e) for e in match)] = 0\n",
    "    elif wins > 0 and ties > 0:\n",
    "            utility[''.join(str(e) for e in match)] = (wins/n_rounds) * (n_players/ties - 1) - 1*(1-(wins/n_rounds))\n",
    "    else:\n",
    "            utility[''.join(str(e) for e in match)] = (n_players - 1)*(wins/n_rounds) - 1*(1 - (wins/n_rounds))\n",
    "    return(utility)\n",
    "    \n",
    "def est_knap_u_parallel(item_draws, n_players):\n",
    "    n_rounds = item_draws.shape[0]\n",
    "    n_knaps = item_draws.shape[1]\n",
    "    \n",
    "    utility = Parallel(n_jobs=-1)(delayed(match_utility)(match, item_draws, n_rounds, n_players) for match in it.product(range(n_knaps), repeat=n_players))\n",
    "        \n",
    "    return(utility)"
   ]
  },
  {
   "cell_type": "code",
   "execution_count": 234,
   "metadata": {},
   "outputs": [
    {
     "data": {
      "text/plain": [
       "array([[ 1, -2, -3,  5,  6,  7,  8,  9, 10, 11],\n",
       "       [ 1, -2, -3,  5,  6,  7,  8,  9, 10, 11],\n",
       "       [ 1, -2, -3,  5,  6,  7,  8,  9, 10, 11],\n",
       "       [ 1, -2, -3,  5,  6,  7,  8,  9, 10, 11]])"
      ]
     },
     "execution_count": 234,
     "metadata": {},
     "output_type": "execute_result"
    }
   ],
   "source": [
    "test = np.array([[ 1, -2, -3, 5, 6, 7, 8, 9, 10, 11], \n",
    "                 [ 1, -2, -3, 5, 6, 7, 8, 9, 10, 11], \n",
    "                 [ 1, -2, -3, 5, 6, 7, 8, 9, 10, 11],\n",
    "                 [ 1, -2, -3, 5, 6, 7, 8, 9, 10, 11]])\n",
    "test"
   ]
  },
  {
   "cell_type": "code",
   "execution_count": null,
   "metadata": {},
   "outputs": [],
   "source": [
    "est_knap_u_parallel(test, 7)"
   ]
  },
  {
   "cell_type": "code",
   "execution_count": null,
   "metadata": {},
   "outputs": [],
   "source": []
  }
 ],
 "metadata": {
  "kernelspec": {
   "display_name": "Python 3",
   "language": "python",
   "name": "python3"
  },
  "language_info": {
   "codemirror_mode": {
    "name": "ipython",
    "version": 3
   },
   "file_extension": ".py",
   "mimetype": "text/x-python",
   "name": "python",
   "nbconvert_exporter": "python",
   "pygments_lexer": "ipython3",
   "version": "3.6.5"
  }
 },
 "nbformat": 4,
 "nbformat_minor": 2
}
